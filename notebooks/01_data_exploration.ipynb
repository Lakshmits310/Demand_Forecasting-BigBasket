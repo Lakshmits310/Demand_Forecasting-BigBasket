{
 "cells": [
  {
   "cell_type": "code",
   "execution_count": 1,
   "id": "a96f2583-91fe-4547-bfba-2e30eaa860ae",
   "metadata": {},
   "outputs": [
    {
     "name": "stdout",
     "output_type": "stream",
     "text": [
      "Saved merged file and 27555 per-product files to ../data/processed\n"
     ]
    }
   ],
   "source": [
    "# 1. Imports\n",
    "import pandas as pd\n",
    "import numpy as np\n",
    "import dask.dataframe as dd\n",
    "import os\n",
    "\n",
    "# 2. Paths\n",
    "raw_path = \"../data/raw/BigBasket_Products.csv\"\n",
    "processed_dir = \"../data/processed\"\n",
    "split_dir = os.path.join(processed_dir, \"products\")\n",
    "\n",
    "os.makedirs(processed_dir, exist_ok=True)\n",
    "os.makedirs(split_dir, exist_ok=True)\n",
    "\n",
    "# 3. Load raw data with Dask (explicit dtypes)\n",
    "products = dd.read_csv(\n",
    "    raw_path,\n",
    "    dtype={'sale_price': 'float64', 'market_price': 'float64'},\n",
    "    assume_missing=True\n",
    ").compute()\n",
    "\n",
    "# 4. Add product_id\n",
    "products['product_id'] = ['BB' + str(i+1).zfill(4) for i in range(len(products))]\n",
    "\n",
    "# 5. Select essential columns\n",
    "products = products[['product_id', 'product', 'category', 'sub_category', \n",
    "                     'brand', 'sale_price', 'market_price', 'type', 'rating']]\n",
    "\n",
    "# 6. Create 2 years of daily dates\n",
    "dates = pd.date_range(start=\"2023-01-01\", end=\"2024-12-31\", freq='D')\n",
    "n_dates = len(dates)\n",
    "\n",
    "# 7. Simulate daily sales (vectorized)\n",
    "np.random.seed(42)\n",
    "seasonal_factor = np.sin(np.linspace(0, 6*np.pi, n_dates)) + 2\n",
    "\n",
    "data_list = []\n",
    "\n",
    "for idx, row in products.iterrows():\n",
    "    base_sales = np.random.randint(10, 80, size=n_dates)\n",
    "    sales = (base_sales * seasonal_factor).astype(int)\n",
    "\n",
    "    df_temp = pd.DataFrame({\n",
    "        'date': dates,\n",
    "        'product_id': row['product_id'],\n",
    "        'product': row['product'],\n",
    "        'category': row['category'],\n",
    "        'sub_category': row['sub_category'],\n",
    "        'brand': row['brand'],\n",
    "        'sale_price': row['sale_price'],\n",
    "        'market_price': row['market_price'],\n",
    "        'type': row['type'],\n",
    "        'rating': row['rating'],\n",
    "        'units_sold': sales\n",
    "    })\n",
    "\n",
    "    data_list.append(df_temp)\n",
    "\n",
    "# 8. Concatenate all product sales\n",
    "sales_df = pd.concat(data_list, ignore_index=True)\n",
    "\n",
    "# 9. Save single merged CSV (for FastAPI/Streamlit)\n",
    "sales_df.to_csv(os.path.join(processed_dir, \"historical_sales.csv\"), index=False)\n",
    "\n",
    "# 10. Save partitioned per-product CSV (fast groupby)\n",
    "for pid, pdf in sales_df.groupby(\"product_id\"):\n",
    "    pdf.to_csv(f\"{split_dir}/{pid}.csv\", index=False)\n",
    "\n",
    "print(f\"Saved merged file and {len(products)} per-product files to {processed_dir}\")\n"
   ]
  }
 ],
 "metadata": {
  "kernelspec": {
   "display_name": "Python 3 (ipykernel)",
   "language": "python",
   "name": "python3"
  },
  "language_info": {
   "codemirror_mode": {
    "name": "ipython",
    "version": 3
   },
   "file_extension": ".py",
   "mimetype": "text/x-python",
   "name": "python",
   "nbconvert_exporter": "python",
   "pygments_lexer": "ipython3",
   "version": "3.12.3"
  }
 },
 "nbformat": 4,
 "nbformat_minor": 5
}
